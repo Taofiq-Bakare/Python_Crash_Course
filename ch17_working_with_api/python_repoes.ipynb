{
 "metadata": {
  "language_info": {
   "codemirror_mode": {
    "name": "ipython",
    "version": 3
   },
   "file_extension": ".py",
   "mimetype": "text/x-python",
   "name": "python",
   "nbconvert_exporter": "python",
   "pygments_lexer": "ipython3",
   "version": "3.8.5-final"
  },
  "orig_nbformat": 2,
  "kernelspec": {
   "name": "crash_course",
   "display_name": "crash_course",
   "language": "python"
  }
 },
 "nbformat": 4,
 "nbformat_minor": 2,
 "cells": [
  {
   "cell_type": "code",
   "execution_count": 31,
   "metadata": {},
   "outputs": [],
   "source": [
    "#import libraries\n",
    "\n",
    "import requests\n",
    "from plotly.graph_objs import Bar\n",
    "from plotly import offline"
   ]
  },
  {
   "cell_type": "code",
   "execution_count": 32,
   "metadata": {},
   "outputs": [],
   "source": [
    "# Make an API call and store the response.\n",
    "\n",
    "url = \"https://api.github.com/search/repositories?q=language:python&sort=stars\"\n",
    "headers = {'Accepts': 'application/vnd.github.v3+json'}\n",
    "r = requests.get(url, headers=headers)\n"
   ]
  },
  {
   "cell_type": "code",
   "execution_count": 33,
   "metadata": {},
   "outputs": [
    {
     "output_type": "stream",
     "name": "stdout",
     "text": [
      "Status code: 200\n"
     ]
    }
   ],
   "source": [
    "print(f\"Status code: {r.status_code}\")\n",
    "# Store API response in a variable.\n",
    "response_dict = r.json()"
   ]
  },
  {
   "cell_type": "code",
   "execution_count": 34,
   "metadata": {},
   "outputs": [
    {
     "output_type": "stream",
     "name": "stdout",
     "text": [
      "dict_keys(['total_count', 'incomplete_results', 'items'])\n"
     ]
    }
   ],
   "source": [
    "# Process results.\n",
    "print(response_dict.keys())"
   ]
  },
  {
   "cell_type": "code",
   "execution_count": 35,
   "metadata": {},
   "outputs": [
    {
     "output_type": "stream",
     "name": "stdout",
     "text": [
      "Total repositories: 6604123\n"
     ]
    }
   ],
   "source": [
    "print(f\"Total repositories: {response_dict['total_count']}\")"
   ]
  },
  {
   "cell_type": "code",
   "execution_count": 36,
   "metadata": {},
   "outputs": [
    {
     "output_type": "stream",
     "name": "stdout",
     "text": [
      "Repositories returned: 30\n"
     ]
    }
   ],
   "source": [
    "# Explore information about the repositories.\n",
    "repo_dicts = response_dict['items']\n",
    "repo_names, stars, labels = [], [], []\n",
    "print(f\"Repositories returned: {len(repo_dicts)}\")"
   ]
  },
  {
   "cell_type": "code",
   "execution_count": 37,
   "metadata": {},
   "outputs": [
    {
     "output_type": "stream",
     "name": "stdout",
     "text": [
      "\nKeys: 74\n"
     ]
    }
   ],
   "source": [
    "# Examine the first repository\n",
    "repo_dict = repo_dicts[4]\n",
    "print(f\"\\nKeys: {len(repo_dict)}\")\n",
    "# for Key in sorted(repo_dict.keys()):\n",
    "#     print(Key)"
   ]
  },
  {
   "cell_type": "code",
   "execution_count": 38,
   "metadata": {},
   "outputs": [
    {
     "output_type": "stream",
     "name": "stdout",
     "text": [
      "\n",
      "Selected infromation about each repository:\n",
      "\n",
      "Name: system-design-primer\n",
      "Owner: donnemartin\n",
      "Stars: 119618\n",
      "Repository: https://github.com/donnemartin/system-design-primer\n",
      "Created: 2017-02-26T16:15:28Z\n",
      "Updated: 2021-01-27T13:06:51Z\n",
      "Description: Learn how to design large-scale systems. Prep for the system design interview.  Includes Anki flashcards.\n",
      "\n",
      "Name: public-apis\n",
      "Owner: public-apis\n",
      "Stars: 108900\n",
      "Repository: https://github.com/public-apis/public-apis\n",
      "Created: 2016-03-20T23:49:42Z\n",
      "Updated: 2021-01-27T13:05:48Z\n",
      "Description: A collective list of free APIs for use in software and web development.\n",
      "\n",
      "Name: Python-100-Days\n",
      "Owner: jackfrued\n",
      "Stars: 98918\n",
      "Repository: https://github.com/jackfrued/Python-100-Days\n",
      "Created: 2018-03-01T16:05:52Z\n",
      "Updated: 2021-01-27T13:13:03Z\n",
      "Description: Python - 100天从新手到大师\n",
      "\n",
      "Name: Python\n",
      "Owner: TheAlgorithms\n",
      "Stars: 97733\n",
      "Repository: https://github.com/TheAlgorithms/Python\n",
      "Created: 2016-07-16T09:44:01Z\n",
      "Updated: 2021-01-27T12:41:11Z\n",
      "Description: All Algorithms implemented in Python\n",
      "\n",
      "Name: awesome-python\n",
      "Owner: vinta\n",
      "Stars: 92949\n",
      "Repository: https://github.com/vinta/awesome-python\n",
      "Created: 2014-06-27T21:00:06Z\n",
      "Updated: 2021-01-27T12:59:57Z\n",
      "Description: A curated list of awesome Python frameworks, libraries, software and resources\n",
      "\n",
      "Name: youtube-dl\n",
      "Owner: ytdl-org\n",
      "Stars: 89137\n",
      "Repository: https://github.com/ytdl-org/youtube-dl\n",
      "Created: 2010-10-31T14:35:07Z\n",
      "Updated: 2021-01-27T13:17:31Z\n",
      "Description: Command-line program to download videos from YouTube.com and other video sites\n",
      "\n",
      "Name: models\n",
      "Owner: tensorflow\n",
      "Stars: 68464\n",
      "Repository: https://github.com/tensorflow/models\n",
      "Created: 2016-02-05T01:15:20Z\n",
      "Updated: 2021-01-27T11:21:54Z\n",
      "Description: Models and examples built with TensorFlow\n",
      "\n",
      "Name: thefuck\n",
      "Owner: nvbn\n",
      "Stars: 58668\n",
      "Repository: https://github.com/nvbn/thefuck\n",
      "Created: 2015-04-08T15:08:04Z\n",
      "Updated: 2021-01-27T12:19:20Z\n",
      "Description: Magnificent app which corrects your previous console command.\n",
      "\n",
      "Name: django\n",
      "Owner: django\n",
      "Stars: 55221\n",
      "Repository: https://github.com/django/django\n",
      "Created: 2012-04-28T02:47:18Z\n",
      "Updated: 2021-01-27T13:18:21Z\n",
      "Description: The Web framework for perfectionists with deadlines.\n",
      "\n",
      "Name: flask\n",
      "Owner: pallets\n",
      "Stars: 53649\n",
      "Repository: https://github.com/pallets/flask\n",
      "Created: 2010-04-06T11:11:59Z\n",
      "Updated: 2021-01-27T13:05:53Z\n",
      "Description: The Python micro framework for building web applications.\n",
      "\n",
      "Name: keras\n",
      "Owner: keras-team\n",
      "Stars: 50595\n",
      "Repository: https://github.com/keras-team/keras\n",
      "Created: 2015-03-28T00:35:42Z\n",
      "Updated: 2021-01-27T12:50:55Z\n",
      "Description: Deep Learning for humans\n",
      "\n",
      "Name: httpie\n",
      "Owner: httpie\n",
      "Stars: 49559\n",
      "Repository: https://github.com/httpie/httpie\n",
      "Created: 2012-02-25T12:39:13Z\n",
      "Updated: 2021-01-27T12:25:37Z\n",
      "Description: As easy as /aitch-tee-tee-pie/ 🥧 Modern, user-friendly command-line HTTP client for the API era. JSON support, colors, sessions, downloads, plugins & more. https://twitter.com/httpie\n",
      "\n",
      "Name: awesome-machine-learning\n",
      "Owner: josephmisiti\n",
      "Stars: 48115\n",
      "Repository: https://github.com/josephmisiti/awesome-machine-learning\n",
      "Created: 2014-07-15T19:11:19Z\n",
      "Updated: 2021-01-27T12:52:10Z\n",
      "Description: A curated list of awesome Machine Learning frameworks, libraries and software.\n",
      "\n",
      "Name: ansible\n",
      "Owner: ansible\n",
      "Stars: 46661\n",
      "Repository: https://github.com/ansible/ansible\n",
      "Created: 2012-03-06T14:58:02Z\n",
      "Updated: 2021-01-27T12:23:27Z\n",
      "Description: Ansible is a radically simple IT automation platform that makes your applications and systems easier to deploy and maintain. Automate everything from code deployment to network configuration to cloud management, in a language that approaches plain English, using SSH, with no agents to install on remote systems. https://docs.ansible.com.\n",
      "\n",
      "Name: requests\n",
      "Owner: psf\n",
      "Stars: 44452\n",
      "Repository: https://github.com/psf/requests\n",
      "Created: 2011-02-13T18:38:17Z\n",
      "Updated: 2021-01-27T12:45:56Z\n",
      "Description: A simple, yet elegant HTTP library.\n",
      "\n",
      "Name: scikit-learn\n",
      "Owner: scikit-learn\n",
      "Stars: 44361\n",
      "Repository: https://github.com/scikit-learn/scikit-learn\n",
      "Created: 2010-08-17T09:43:38Z\n",
      "Updated: 2021-01-27T13:27:14Z\n",
      "Description: scikit-learn: machine learning in Python\n",
      "\n",
      "Name: transformers\n",
      "Owner: huggingface\n",
      "Stars: 40034\n",
      "Repository: https://github.com/huggingface/transformers\n",
      "Created: 2018-10-29T13:56:00Z\n",
      "Updated: 2021-01-27T13:26:39Z\n",
      "Description: 🤗Transformers: State-of-the-art Natural Language Processing for Pytorch and TensorFlow 2.0.\n",
      "\n",
      "Name: core\n",
      "Owner: home-assistant\n",
      "Stars: 39986\n",
      "Repository: https://github.com/home-assistant/core\n",
      "Created: 2013-09-17T07:29:48Z\n",
      "Updated: 2021-01-27T13:16:12Z\n",
      "Description: :house_with_garden: Open source home automation that puts local control and privacy first\n",
      "\n",
      "Name: scrapy\n",
      "Owner: scrapy\n",
      "Stars: 39563\n",
      "Repository: https://github.com/scrapy/scrapy\n",
      "Created: 2010-02-22T02:01:14Z\n",
      "Updated: 2021-01-27T12:13:28Z\n",
      "Description: Scrapy, a fast high-level web crawling & scraping framework for Python.\n",
      "\n",
      "Name: big-list-of-naughty-strings\n",
      "Owner: minimaxir\n",
      "Stars: 39263\n",
      "Repository: https://github.com/minimaxir/big-list-of-naughty-strings\n",
      "Created: 2015-08-08T20:57:20Z\n",
      "Updated: 2021-01-27T09:11:38Z\n",
      "Description: The Big List of Naughty Strings is a list of strings which have a high probability of causing issues when used as user-input data.\n",
      "\n",
      "Name: you-get\n",
      "Owner: soimort\n",
      "Stars: 38760\n",
      "Repository: https://github.com/soimort/you-get\n",
      "Created: 2012-08-20T15:53:36Z\n",
      "Updated: 2021-01-27T12:54:51Z\n",
      "Description: :arrow_double_down: Dumb downloader that scrapes the web\n",
      "\n",
      "Name: face_recognition\n",
      "Owner: ageitgey\n",
      "Stars: 38303\n",
      "Repository: https://github.com/ageitgey/face_recognition\n",
      "Created: 2017-03-03T21:52:39Z\n",
      "Updated: 2021-01-27T12:30:33Z\n",
      "Description: The world's simplest facial recognition api for Python and the command line\n",
      "\n",
      "Name: HelloGitHub\n",
      "Owner: 521xueweihan\n",
      "Stars: 36872\n",
      "Repository: https://github.com/521xueweihan/HelloGitHub\n",
      "Created: 2016-05-04T06:24:11Z\n",
      "Updated: 2021-01-27T12:18:58Z\n",
      "Description: :octocat: Find pearls on open-source seashore 分享 GitHub 上有趣、入门级的开源项目\n",
      "\n",
      "Name: cpython\n",
      "Owner: python\n",
      "Stars: 35832\n",
      "Repository: https://github.com/python/cpython\n",
      "Created: 2017-02-10T19:23:51Z\n",
      "Updated: 2021-01-27T12:59:50Z\n",
      "Description: The Python programming language\n",
      "\n",
      "Name: superset\n",
      "Owner: apache\n",
      "Stars: 34101\n",
      "Repository: https://github.com/apache/superset\n",
      "Created: 2015-07-21T18:55:34Z\n",
      "Updated: 2021-01-27T13:28:23Z\n",
      "Description: Apache Superset is a Data Visualization and Data Exploration Platform\n",
      "\n",
      "Name: faceswap\n",
      "Owner: deepfakes\n",
      "Stars: 34020\n",
      "Repository: https://github.com/deepfakes/faceswap\n",
      "Created: 2017-12-19T09:44:13Z\n",
      "Updated: 2021-01-27T12:42:29Z\n",
      "Description: Deepfakes Software For All\n",
      "\n",
      "Name: shadowsocks\n",
      "Owner: shadowsocks\n",
      "Stars: 32927\n",
      "Repository: https://github.com/shadowsocks/shadowsocks\n",
      "Created: 2012-04-20T13:10:49Z\n",
      "Updated: 2021-01-27T13:20:04Z\n",
      "Description: None\n",
      "\n",
      "Name: XX-Net\n",
      "Owner: XX-net\n",
      "Stars: 30526\n",
      "Repository: https://github.com/XX-net/XX-Net\n",
      "Created: 2015-01-15T09:35:51Z\n",
      "Updated: 2021-01-27T11:50:15Z\n",
      "Description: A proxy tool to bypass GFW.\n",
      "\n",
      "Name: interview_internal_reference\n",
      "Owner: 0voice\n",
      "Stars: 30137\n",
      "Repository: https://github.com/0voice/interview_internal_reference\n",
      "Created: 2019-06-10T06:54:19Z\n",
      "Updated: 2021-01-27T11:38:57Z\n",
      "Description: 2020年最新总结，阿里，腾讯，百度，美团，头条等技术面试题目，以及答案，专家出题人分析汇总。\n",
      "\n",
      "Name: manim\n",
      "Owner: 3b1b\n",
      "Stars: 29932\n",
      "Repository: https://github.com/3b1b/manim\n",
      "Created: 2015-03-22T18:50:58Z\n",
      "Updated: 2021-01-27T13:06:27Z\n",
      "Description: Animation engine for explanatory math videos\n",
      "\n"
     ]
    }
   ],
   "source": [
    "# Pull out information about the first repo\n",
    "\n",
    "print(\"\\nSelected infromation about each repository:\\n\")\n",
    "\n",
    "for repo_dict in repo_dicts:\n",
    "    repo_names.append(repo_dict['name'])\n",
    "    stars.append(repo_dict['stargazers_count'])\n",
    "    owner = repo_dict['owner']['login']\n",
    "    description = repo_dict['description']\n",
    "    label = f\"{owner}<br />{description}\"\n",
    "    labels.append(label)\n",
    "\n",
    "\n",
    "    # print(f\"Name: {repo_dict['name']}\")\n",
    "    # print(f\"Owner: {repo_dict['owner']['login']}\")\n",
    "    # print(f\"Stars: {repo_dict['stargazers_count']}\")\n",
    "    # print(f\"Repository: {repo_dict['html_url']}\")\n",
    "    # print(f\"Created: {repo_dict['created_at']}\")\n",
    "    # print(f\"Updated: {repo_dict['updated_at']}\")\n",
    "    # print(f\"Description: {repo_dict['description']}\\n\")\n"
   ]
  },
  {
   "cell_type": "code",
   "execution_count": 49,
   "metadata": {},
   "outputs": [
    {
     "output_type": "execute_result",
     "data": {
      "text/plain": [
       "'python_repos.html'"
      ]
     },
     "metadata": {},
     "execution_count": 49
    }
   ],
   "source": [
    "data = [{\n",
    "    'type': 'bar',\n",
    "    'x': repo_names,\n",
    "    'y': stars,\n",
    "    'marker': {\n",
    "        'color': 'rgb(60, 100, 150)',\n",
    "        'line': {'width': 1.5, 'color': 'rgb(25,25,25)'}\n",
    "    },\n",
    "    'opacity': 0.6,\n",
    "}] \n",
    "my_layout = {\n",
    "    'title': 'Most-Starred Python Projects on GitHub',\n",
    "    'titlefont': {'size': 28},\n",
    "    'xaxis': {\n",
    "        'title': 'Repository',\n",
    "        'titlefont': {'size': 24},\n",
    "        'tickfont': {'size':14},\n",
    "        },\n",
    "    'yaxis': {\n",
    "        'title': 'Stars',\n",
    "        'titlefont': {'size': 24},\n",
    "        'tickfont': {'size':14}\n",
    "        },\n",
    "} \n",
    "fig = {'data': data, 'layout': my_layout}\n",
    "offline.plot(fig, filename='python_repos.html')"
   ]
  },
  {
   "cell_type": "code",
   "execution_count": null,
   "metadata": {},
   "outputs": [],
   "source": [
    "# Add custom tooltips\n",
    "\n"
   ]
  }
 ]
}