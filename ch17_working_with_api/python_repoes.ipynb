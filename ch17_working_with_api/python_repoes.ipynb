{
 "metadata": {
  "language_info": {
   "codemirror_mode": {
    "name": "ipython",
    "version": 3
   },
   "file_extension": ".py",
   "mimetype": "text/x-python",
   "name": "python",
   "nbconvert_exporter": "python",
   "pygments_lexer": "ipython3",
   "version": "3.8.5-final"
  },
  "orig_nbformat": 2,
  "kernelspec": {
   "name": "crash_course",
   "display_name": "crash_course",
   "language": "python"
  }
 },
 "nbformat": 4,
 "nbformat_minor": 2,
 "cells": [
  {
   "cell_type": "code",
   "execution_count": 31,
   "metadata": {},
   "outputs": [],
   "source": [
    "#import libraries\n",
    "\n",
    "import requests\n",
    "from plotly.graph_objs import Bar\n",
    "from plotly import offline"
   ]
  },
  {
   "cell_type": "code",
   "execution_count": 32,
   "metadata": {},
   "outputs": [],
   "source": [
    "# Make an API call and store the response.\n",
    "\n",
    "url = \"https://api.github.com/search/repositories?q=language:python&sort=stars\"\n",
    "headers = {'Accepts': 'application/vnd.github.v3+json'}\n",
    "r = requests.get(url, headers=headers)\n"
   ]
  },
  {
   "cell_type": "code",
   "execution_count": 33,
   "metadata": {},
   "outputs": [
    {
     "output_type": "stream",
     "name": "stdout",
     "text": [
      "Status code: 200\n"
     ]
    }
   ],
   "source": [
    "print(f\"Status code: {r.status_code}\")\n",
    "# Store API response in a variable.\n",
    "response_dict = r.json()"
   ]
  },
  {
   "cell_type": "code",
   "execution_count": 34,
   "metadata": {},
   "outputs": [
    {
     "output_type": "stream",
     "name": "stdout",
     "text": [
      "dict_keys(['total_count', 'incomplete_results', 'items'])\n"
     ]
    }
   ],
   "source": [
    "# Process results.\n",
    "print(response_dict.keys())"
   ]
  },
  {
   "cell_type": "code",
   "execution_count": 35,
   "metadata": {},
   "outputs": [
    {
     "output_type": "stream",
     "name": "stdout",
     "text": [
      "Total repositories: 6604123\n"
     ]
    }
   ],
   "source": [
    "print(f\"Total repositories: {response_dict['total_count']}\")"
   ]
  },
  {
   "cell_type": "code",
   "execution_count": 51,
   "metadata": {},
   "outputs": [
    {
     "output_type": "stream",
     "name": "stdout",
     "text": [
      "Repositories returned: 30\n"
     ]
    }
   ],
   "source": [
    "# Explore information about the repositories.\n",
    "repo_dicts = response_dict['items']\n",
    "repo_names, stars, labels = [], [], []\n",
    "print(f\"Repositories returned: {len(repo_dicts)}\")"
   ]
  },
  {
   "cell_type": "code",
   "execution_count": 52,
   "metadata": {},
   "outputs": [
    {
     "output_type": "stream",
     "name": "stdout",
     "text": [
      "\nKeys: 74\n"
     ]
    }
   ],
   "source": [
    "# Examine the first repository\n",
    "repo_dict = repo_dicts[4]\n",
    "print(f\"\\nKeys: {len(repo_dict)}\")\n",
    "# for Key in sorted(repo_dict.keys()):\n",
    "#     print(Key)"
   ]
  },
  {
   "cell_type": "code",
   "execution_count": 53,
   "metadata": {},
   "outputs": [
    {
     "output_type": "stream",
     "name": "stdout",
     "text": [
      "\nSelected infromation about each repository:\n\n"
     ]
    }
   ],
   "source": [
    "# Pull out information about the first repo\n",
    "\n",
    "print(\"\\nSelected infromation about each repository:\\n\")\n",
    "\n",
    "for repo_dict in repo_dicts:\n",
    "    repo_names.append(repo_dict['name'])\n",
    "    stars.append(repo_dict['stargazers_count'])\n",
    "    owner = repo_dict['owner']['login']\n",
    "    description = repo_dict['description']\n",
    "    label = f\"{owner}<br />{description}\"\n",
    "    labels.append(label)\n",
    "\n",
    "\n",
    "    # print(f\"Name: {repo_dict['name']}\")\n",
    "    # print(f\"Owner: {repo_dict['owner']['login']}\")\n",
    "    # print(f\"Stars: {repo_dict['stargazers_count']}\")\n",
    "    # print(f\"Repository: {repo_dict['html_url']}\")\n",
    "    # print(f\"Created: {repo_dict['created_at']}\")\n",
    "    # print(f\"Updated: {repo_dict['updated_at']}\")\n",
    "    # print(f\"Description: {repo_dict['description']}\\n\")\n"
   ]
  },
  {
   "cell_type": "code",
   "execution_count": 55,
   "metadata": {},
   "outputs": [
    {
     "output_type": "execute_result",
     "data": {
      "text/plain": [
       "'python_repos.html'"
      ]
     },
     "metadata": {},
     "execution_count": 55
    }
   ],
   "source": [
    "data = [{\n",
    "    'type': 'bar',\n",
    "    'x': repo_names,\n",
    "    'y': stars,\n",
    "    'hovertext': labels,\n",
    "    'marker': {\n",
    "        'color': 'rgb(60, 100, 150)',\n",
    "        'line': {'width': 1.5, 'color': 'rgb(25,25,25)'}\n",
    "    },\n",
    "    'opacity': 0.6,\n",
    "}] \n",
    "my_layout = {\n",
    "    'title': 'Most-Starred Python Projects on GitHub',\n",
    "    'titlefont': {'size': 28},\n",
    "    'xaxis': {\n",
    "        'title': 'Repository',\n",
    "        'titlefont': {'size': 24},\n",
    "        'tickfont': {'size':14},\n",
    "        },\n",
    "    'yaxis': {\n",
    "        'title': 'Stars',\n",
    "        'titlefont': {'size': 24},\n",
    "        'tickfont': {'size':14}\n",
    "        },\n",
    "} \n",
    "fig = {'data': data, 'layout': my_layout}\n",
    "offline.plot(fig, filename='python_repos.html')"
   ]
  },
  {
   "cell_type": "code",
   "execution_count": null,
   "metadata": {},
   "outputs": [],
   "source": [
    "# Add custom tooltips\n",
    "\n"
   ]
  }
 ]
}