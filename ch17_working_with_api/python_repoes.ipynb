{
 "metadata": {
  "language_info": {
   "codemirror_mode": {
    "name": "ipython",
    "version": 3
   },
   "file_extension": ".py",
   "mimetype": "text/x-python",
   "name": "python",
   "nbconvert_exporter": "python",
   "pygments_lexer": "ipython3",
   "version": "3.8.5-final"
  },
  "orig_nbformat": 2,
  "kernelspec": {
   "name": "crash_course",
   "display_name": "crash_course",
   "language": "python"
  }
 },
 "nbformat": 4,
 "nbformat_minor": 2,
 "cells": [
  {
   "cell_type": "code",
   "execution_count": 1,
   "metadata": {},
   "outputs": [],
   "source": [
    "#import libraries\n",
    "\n",
    "import requests"
   ]
  },
  {
   "cell_type": "code",
   "execution_count": 2,
   "metadata": {},
   "outputs": [],
   "source": [
    "# Make an API call and store the response.\n",
    "\n",
    "url = \"https://api.github.com/search/repositories?q=language:python&sort=stars\"\n",
    "headers = {'Accepts': 'application/vnd.github.v3+json'}\n",
    "r = requests.get(url, headers=headers)\n"
   ]
  },
  {
   "cell_type": "code",
   "execution_count": 6,
   "metadata": {},
   "outputs": [
    {
     "output_type": "stream",
     "name": "stdout",
     "text": [
      "Status code: 200\nTotal repositories: 6603904\n"
     ]
    }
   ],
   "source": [
    "print(f\"Status code: {r.status_code}\")\n",
    "# Store API response in a variable.\n",
    "response_dict = r.json()"
   ]
  },
  {
   "cell_type": "code",
   "execution_count": 4,
   "metadata": {},
   "outputs": [
    {
     "output_type": "stream",
     "name": "stdout",
     "text": [
      "dict_keys(['total_count', 'incomplete_results', 'items'])\n"
     ]
    }
   ],
   "source": [
    "# Process results.\n",
    "print(response_dict.keys())"
   ]
  },
  {
   "cell_type": "code",
   "execution_count": 5,
   "metadata": {},
   "outputs": [
    {
     "output_type": "stream",
     "name": "stdout",
     "text": [
      "Total repositories: 6603904\n"
     ]
    }
   ],
   "source": [
    "print(f\"Total repositories: {response_dict['total_count']}\")"
   ]
  },
  {
   "cell_type": "code",
   "execution_count": 7,
   "metadata": {},
   "outputs": [
    {
     "output_type": "stream",
     "name": "stdout",
     "text": [
      "Repositories returned: 30\n"
     ]
    }
   ],
   "source": [
    "# Explore information about the repositories.\n",
    "repo_dicts = response_dict['items']\n",
    "print(f\"Repositories returned: {len(repo_dicts)}\")"
   ]
  },
  {
   "cell_type": "code",
   "execution_count": 26,
   "metadata": {},
   "outputs": [
    {
     "output_type": "stream",
     "name": "stdout",
     "text": [
      "\nKeys: 74\n"
     ]
    }
   ],
   "source": [
    "# Examine the first repository\n",
    "repo_dict = repo_dicts[4]\n",
    "print(f\"\\nKeys: {len(repo_dict)}\")\n",
    "# for Key in sorted(repo_dict.keys()):\n",
    "#     print(Key)"
   ]
  },
  {
   "cell_type": "code",
   "execution_count": 29,
   "metadata": {},
   "outputs": [
    {
     "output_type": "stream",
     "name": "stdout",
     "text": [
      "\nSelected infromation about each repository:\n\nName: system-design-primer\nOwner: donnemartin\nStars: 119616\nRepository: https://github.com/donnemartin/system-design-primer\nCreated: 2017-02-26T16:15:28Z\nUpdated: 2021-01-27T12:21:05Z\nDescription: Learn how to design large-scale systems. Prep for the system design interview.  Includes Anki flashcards.\n\nName: public-apis\nOwner: public-apis\nStars: 108896\nRepository: https://github.com/public-apis/public-apis\nCreated: 2016-03-20T23:49:42Z\nUpdated: 2021-01-27T12:26:51Z\nDescription: A collective list of free APIs for use in software and web development.\n\nName: Python-100-Days\nOwner: jackfrued\nStars: 98916\nRepository: https://github.com/jackfrued/Python-100-Days\nCreated: 2018-03-01T16:05:52Z\nUpdated: 2021-01-27T10:59:41Z\nDescription: Python - 100天从新手到大师\n\nName: Python\nOwner: TheAlgorithms\nStars: 97733\nRepository: https://github.com/TheAlgorithms/Python\nCreated: 2016-07-16T09:44:01Z\nUpdated: 2021-01-27T12:40:45Z\nDescription: All Algorithms implemented in Python\n\nName: awesome-python\nOwner: vinta\nStars: 92950\nRepository: https://github.com/vinta/awesome-python\nCreated: 2014-06-27T21:00:06Z\nUpdated: 2021-01-27T12:26:21Z\nDescription: A curated list of awesome Python frameworks, libraries, software and resources\n\nName: youtube-dl\nOwner: ytdl-org\nStars: 89135\nRepository: https://github.com/ytdl-org/youtube-dl\nCreated: 2010-10-31T14:35:07Z\nUpdated: 2021-01-27T11:59:30Z\nDescription: Command-line program to download videos from YouTube.com and other video sites\n\nName: models\nOwner: tensorflow\nStars: 68464\nRepository: https://github.com/tensorflow/models\nCreated: 2016-02-05T01:15:20Z\nUpdated: 2021-01-27T11:21:54Z\nDescription: Models and examples built with TensorFlow\n\nName: thefuck\nOwner: nvbn\nStars: 58668\nRepository: https://github.com/nvbn/thefuck\nCreated: 2015-04-08T15:08:04Z\nUpdated: 2021-01-27T12:19:20Z\nDescription: Magnificent app which corrects your previous console command.\n\nName: django\nOwner: django\nStars: 55218\nRepository: https://github.com/django/django\nCreated: 2012-04-28T02:47:18Z\nUpdated: 2021-01-27T12:25:44Z\nDescription: The Web framework for perfectionists with deadlines.\n\nName: flask\nOwner: pallets\nStars: 53648\nRepository: https://github.com/pallets/flask\nCreated: 2010-04-06T11:11:59Z\nUpdated: 2021-01-27T12:04:05Z\nDescription: The Python micro framework for building web applications.\n\nName: keras\nOwner: keras-team\nStars: 50593\nRepository: https://github.com/keras-team/keras\nCreated: 2015-03-28T00:35:42Z\nUpdated: 2021-01-27T11:55:13Z\nDescription: Deep Learning for humans\n\nName: httpie\nOwner: httpie\nStars: 49559\nRepository: https://github.com/httpie/httpie\nCreated: 2012-02-25T12:39:13Z\nUpdated: 2021-01-27T12:25:37Z\nDescription: As easy as /aitch-tee-tee-pie/ 🥧 Modern, user-friendly command-line HTTP client for the API era. JSON support, colors, sessions, downloads, plugins & more. https://twitter.com/httpie\n\nName: awesome-machine-learning\nOwner: josephmisiti\nStars: 48114\nRepository: https://github.com/josephmisiti/awesome-machine-learning\nCreated: 2014-07-15T19:11:19Z\nUpdated: 2021-01-27T12:26:35Z\nDescription: A curated list of awesome Machine Learning frameworks, libraries and software.\n\nName: ansible\nOwner: ansible\nStars: 46661\nRepository: https://github.com/ansible/ansible\nCreated: 2012-03-06T14:58:02Z\nUpdated: 2021-01-27T12:23:27Z\nDescription: Ansible is a radically simple IT automation platform that makes your applications and systems easier to deploy and maintain. Automate everything from code deployment to network configuration to cloud management, in a language that approaches plain English, using SSH, with no agents to install on remote systems. https://docs.ansible.com.\n\nName: requests\nOwner: psf\nStars: 44451\nRepository: https://github.com/psf/requests\nCreated: 2011-02-13T18:38:17Z\nUpdated: 2021-01-27T12:12:54Z\nDescription: A simple, yet elegant HTTP library.\n\nName: scikit-learn\nOwner: scikit-learn\nStars: 44360\nRepository: https://github.com/scikit-learn/scikit-learn\nCreated: 2010-08-17T09:43:38Z\nUpdated: 2021-01-27T12:39:59Z\nDescription: scikit-learn: machine learning in Python\n\nName: transformers\nOwner: huggingface\nStars: 40029\nRepository: https://github.com/huggingface/transformers\nCreated: 2018-10-29T13:56:00Z\nUpdated: 2021-01-27T12:40:37Z\nDescription: 🤗Transformers: State-of-the-art Natural Language Processing for Pytorch and TensorFlow 2.0.\n\nName: core\nOwner: home-assistant\nStars: 39986\nRepository: https://github.com/home-assistant/core\nCreated: 2013-09-17T07:29:48Z\nUpdated: 2021-01-27T12:40:29Z\nDescription: :house_with_garden: Open source home automation that puts local control and privacy first\n\nName: scrapy\nOwner: scrapy\nStars: 39563\nRepository: https://github.com/scrapy/scrapy\nCreated: 2010-02-22T02:01:14Z\nUpdated: 2021-01-27T12:13:28Z\nDescription: Scrapy, a fast high-level web crawling & scraping framework for Python.\n\nName: big-list-of-naughty-strings\nOwner: minimaxir\nStars: 39263\nRepository: https://github.com/minimaxir/big-list-of-naughty-strings\nCreated: 2015-08-08T20:57:20Z\nUpdated: 2021-01-27T09:11:38Z\nDescription: The Big List of Naughty Strings is a list of strings which have a high probability of causing issues when used as user-input data.\n\nName: you-get\nOwner: soimort\nStars: 38759\nRepository: https://github.com/soimort/you-get\nCreated: 2012-08-20T15:53:36Z\nUpdated: 2021-01-27T12:33:41Z\nDescription: :arrow_double_down: Dumb downloader that scrapes the web\n\nName: face_recognition\nOwner: ageitgey\nStars: 38303\nRepository: https://github.com/ageitgey/face_recognition\nCreated: 2017-03-03T21:52:39Z\nUpdated: 2021-01-27T12:30:33Z\nDescription: The world's simplest facial recognition api for Python and the command line\n\nName: HelloGitHub\nOwner: 521xueweihan\nStars: 36872\nRepository: https://github.com/521xueweihan/HelloGitHub\nCreated: 2016-05-04T06:24:11Z\nUpdated: 2021-01-27T12:18:58Z\nDescription: :octocat: Find pearls on open-source seashore 分享 GitHub 上有趣、入门级的开源项目\n\nName: cpython\nOwner: python\nStars: 35830\nRepository: https://github.com/python/cpython\nCreated: 2017-02-10T19:23:51Z\nUpdated: 2021-01-27T12:29:58Z\nDescription: The Python programming language\n\nName: superset\nOwner: apache\nStars: 34093\nRepository: https://github.com/apache/superset\nCreated: 2015-07-21T18:55:34Z\nUpdated: 2021-01-27T12:35:13Z\nDescription: Apache Superset is a Data Visualization and Data Exploration Platform\n\nName: faceswap\nOwner: deepfakes\nStars: 34019\nRepository: https://github.com/deepfakes/faceswap\nCreated: 2017-12-19T09:44:13Z\nUpdated: 2021-01-27T12:26:38Z\nDescription: Deepfakes Software For All\n\nName: shadowsocks\nOwner: shadowsocks\nStars: 32928\nRepository: https://github.com/shadowsocks/shadowsocks\nCreated: 2012-04-20T13:10:49Z\nUpdated: 2021-01-27T08:51:07Z\nDescription: None\n\nName: XX-Net\nOwner: XX-net\nStars: 30526\nRepository: https://github.com/XX-net/XX-Net\nCreated: 2015-01-15T09:35:51Z\nUpdated: 2021-01-27T11:50:15Z\nDescription: A proxy tool to bypass GFW.\n\nName: interview_internal_reference\nOwner: 0voice\nStars: 30137\nRepository: https://github.com/0voice/interview_internal_reference\nCreated: 2019-06-10T06:54:19Z\nUpdated: 2021-01-27T11:38:57Z\nDescription: 2020年最新总结，阿里，腾讯，百度，美团，头条等技术面试题目，以及答案，专家出题人分析汇总。\n\nName: manim\nOwner: 3b1b\nStars: 29930\nRepository: https://github.com/3b1b/manim\nCreated: 2015-03-22T18:50:58Z\nUpdated: 2021-01-27T12:04:19Z\nDescription: Animation engine for explanatory math videos\n\n"
     ]
    }
   ],
   "source": [
    "# Pull out information about the first repo\n",
    "\n",
    "print(\"\\nSelected infromation about each repository:\\n\")\n",
    "\n",
    "for repo_dict in repo_dicts:\n",
    "    print(f\"Name: {repo_dict['name']}\")\n",
    "    print(f\"Owner: {repo_dict['owner']['login']}\")\n",
    "    print(f\"Stars: {repo_dict['stargazers_count']}\")\n",
    "    print(f\"Repository: {repo_dict['html_url']}\")\n",
    "    print(f\"Created: {repo_dict['created_at']}\")\n",
    "    print(f\"Updated: {repo_dict['updated_at']}\")\n",
    "    print(f\"Description: {repo_dict['description']}\\n\")\n"
   ]
  },
  {
   "cell_type": "code",
   "execution_count": null,
   "metadata": {},
   "outputs": [],
   "source": []
  }
 ]
}