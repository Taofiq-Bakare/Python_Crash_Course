{
 "metadata": {
  "language_info": {
   "codemirror_mode": {
    "name": "ipython",
    "version": 3
   },
   "file_extension": ".py",
   "mimetype": "text/x-python",
   "name": "python",
   "nbconvert_exporter": "python",
   "pygments_lexer": "ipython3",
   "version": "3.8.5-final"
  },
  "orig_nbformat": 2,
  "kernelspec": {
   "name": "crash_course",
   "display_name": "crash_course",
   "language": "python"
  }
 },
 "nbformat": 4,
 "nbformat_minor": 2,
 "cells": [
  {
   "cell_type": "code",
   "execution_count": 1,
   "metadata": {},
   "outputs": [],
   "source": [
    "#import libraries\n",
    "\n",
    "import requests"
   ]
  },
  {
   "cell_type": "code",
   "execution_count": 2,
   "metadata": {},
   "outputs": [],
   "source": [
    "# Make an API call and store the response.\n",
    "\n",
    "url = \"https://api.github.com/search/repositories?q=language:python&sort=stars\"\n",
    "headers = {'Accepts': 'application/vnd.github.v3+json'}\n",
    "r = requests.get(url, headers=headers)\n"
   ]
  },
  {
   "cell_type": "code",
   "execution_count": 6,
   "metadata": {},
   "outputs": [
    {
     "output_type": "stream",
     "name": "stdout",
     "text": [
      "Status code: 200\nTotal repositories: 6603904\n"
     ]
    }
   ],
   "source": [
    "print(f\"Status code: {r.status_code}\")\n",
    "# Store API response in a variable.\n",
    "response_dict = r.json()"
   ]
  },
  {
   "cell_type": "code",
   "execution_count": 4,
   "metadata": {},
   "outputs": [
    {
     "output_type": "stream",
     "name": "stdout",
     "text": [
      "dict_keys(['total_count', 'incomplete_results', 'items'])\n"
     ]
    }
   ],
   "source": [
    "# Process results.\n",
    "print(response_dict.keys())"
   ]
  },
  {
   "cell_type": "code",
   "execution_count": 5,
   "metadata": {},
   "outputs": [
    {
     "output_type": "stream",
     "name": "stdout",
     "text": [
      "Total repositories: 6603904\n"
     ]
    }
   ],
   "source": [
    "print(f\"Total repositories: {response_dict['total_count']}\")"
   ]
  },
  {
   "cell_type": "code",
   "execution_count": 7,
   "metadata": {},
   "outputs": [
    {
     "output_type": "stream",
     "name": "stdout",
     "text": [
      "Repositories returned: 30\n"
     ]
    }
   ],
   "source": [
    "# Explore information about the repositories.\n",
    "repo_dicts = response_dict['items']\n",
    "print(f\"Repositories returned: {len(repo_dicts)}\")"
   ]
  },
  {
   "cell_type": "code",
   "execution_count": 9,
   "metadata": {},
   "outputs": [
    {
     "output_type": "stream",
     "name": "stdout",
     "text": [
      "\nKeys: 74\narchive_url\narchived\nassignees_url\nblobs_url\nbranches_url\nclone_url\ncollaborators_url\ncomments_url\ncommits_url\ncompare_url\ncontents_url\ncontributors_url\ncreated_at\ndefault_branch\ndeployments_url\ndescription\ndisabled\ndownloads_url\nevents_url\nfork\nforks\nforks_count\nforks_url\nfull_name\ngit_commits_url\ngit_refs_url\ngit_tags_url\ngit_url\nhas_downloads\nhas_issues\nhas_pages\nhas_projects\nhas_wiki\nhomepage\nhooks_url\nhtml_url\nid\nissue_comment_url\nissue_events_url\nissues_url\nkeys_url\nlabels_url\nlanguage\nlanguages_url\nlicense\nmerges_url\nmilestones_url\nmirror_url\nname\nnode_id\nnotifications_url\nopen_issues\nopen_issues_count\nowner\nprivate\npulls_url\npushed_at\nreleases_url\nscore\nsize\nssh_url\nstargazers_count\nstargazers_url\nstatuses_url\nsubscribers_url\nsubscription_url\nsvn_url\ntags_url\nteams_url\ntrees_url\nupdated_at\nurl\nwatchers\nwatchers_count\n"
     ]
    }
   ],
   "source": [
    "# Examine the first repository\n",
    "repo_dict = repo_dicts[0]\n",
    "print(f\"\\nKeys: {len(repo_dict)}\")\n",
    "for Key in sorted(repo_dict.keys()):\n",
    "    print(Key)"
   ]
  },
  {
   "cell_type": "code",
   "execution_count": null,
   "metadata": {},
   "outputs": [],
   "source": []
  }
 ]
}